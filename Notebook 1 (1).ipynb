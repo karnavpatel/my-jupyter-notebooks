{
 "cells": [
  {
   "cell_type": "markdown",
   "id": "a907de75",
   "metadata": {},
   "source": [
    "# My Jupyter Notebook On IBM watson Studio"
   ]
  },
  {
   "cell_type": "markdown",
   "id": "a5339109",
   "metadata": {},
   "source": [
    "# Karnav Patel\n",
    "# Data Analyst"
   ]
  },
  {
   "cell_type": "markdown",
   "id": "f2d29a4e",
   "metadata": {},
   "source": [
    "# Data Science Languages"
   ]
  },
  {
   "cell_type": "code",
   "execution_count": 1,
   "id": "70ca55b7",
   "metadata": {},
   "outputs": [
    {
     "name": "stdout",
     "output_type": "stream",
     "text": [
      "['python', 'R', 'SQL']\n"
     ]
    }
   ],
   "source": [
    "ds_languages = [\"python\",\"R\",\"SQL\"]\n",
    "print(ds_languages)"
   ]
  },
  {
   "cell_type": "markdown",
   "id": "771d1480",
   "metadata": {},
   "source": [
    "# Data Science Libraries"
   ]
  },
  {
   "cell_type": "code",
   "execution_count": 2,
   "id": "f4ac3067",
   "metadata": {},
   "outputs": [
    {
     "name": "stdout",
     "output_type": "stream",
     "text": [
      "['pandas', 'seaborn', 'matpotlib']\n"
     ]
    }
   ],
   "source": [
    "ds_lib = [\"pandas\",\"seaborn\",\"matpotlib\"]\n",
    "print(ds_lib)"
   ]
  },
  {
   "cell_type": "markdown",
   "id": "8584465e",
   "metadata": {},
   "source": [
    "# Ds Tools \n",
    "# IBM Watson Studio\n",
    "# Jupyter"
   ]
  },
  {
   "cell_type": "markdown",
   "id": "00f6f96e",
   "metadata": {},
   "source": [
    "# Intro To Arithmetic Op\n",
    "# * , /, +, -"
   ]
  },
  {
   "cell_type": "code",
   "execution_count": 3,
   "id": "e57810da",
   "metadata": {},
   "outputs": [
    {
     "data": {
      "text/plain": [
       "6"
      ]
     },
     "execution_count": 3,
     "metadata": {},
     "output_type": "execute_result"
    }
   ],
   "source": [
    "3+3"
   ]
  },
  {
   "cell_type": "code",
   "execution_count": 4,
   "id": "45634f93",
   "metadata": {},
   "outputs": [
    {
     "data": {
      "text/plain": [
       "45"
      ]
     },
     "execution_count": 4,
     "metadata": {},
     "output_type": "execute_result"
    }
   ],
   "source": [
    "5*9"
   ]
  },
  {
   "cell_type": "code",
   "execution_count": 5,
   "id": "2f7609c6",
   "metadata": {},
   "outputs": [
    {
     "name": "stdout",
     "output_type": "stream",
     "text": [
      "2.0\n"
     ]
    }
   ],
   "source": [
    "min = 120\n",
    "hours = min/60\n",
    "print(hours)"
   ]
  },
  {
   "cell_type": "markdown",
   "id": "7106def5",
   "metadata": {},
   "source": [
    "# Objectives\n",
    "# Create Markdown cells\n",
    "# Create Add description\n",
    "# Create Coding cells\n",
    "# Display Results of code"
   ]
  },
  {
   "cell_type": "markdown",
   "id": "df39f6a2",
   "metadata": {},
   "source": [
    "# Author Details : Karnav Patel"
   ]
  },
  {
   "cell_type": "code",
   "execution_count": null,
   "id": "a2e4aa90",
   "metadata": {},
   "outputs": [],
   "source": []
  }
 ],
 "metadata": {
  "kernelspec": {
   "display_name": "Python 3 (ipykernel)",
   "language": "python",
   "name": "python3"
  },
  "language_info": {
   "codemirror_mode": {
    "name": "ipython",
    "version": 3
   },
   "file_extension": ".py",
   "mimetype": "text/x-python",
   "name": "python",
   "nbconvert_exporter": "python",
   "pygments_lexer": "ipython3",
   "version": "3.9.7"
  }
 },
 "nbformat": 4,
 "nbformat_minor": 5
}
