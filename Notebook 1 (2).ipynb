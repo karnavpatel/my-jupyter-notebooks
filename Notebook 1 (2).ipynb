{
 "cells": [
  {
   "cell_type": "markdown",
   "id": "4fcf0ff7",
   "metadata": {},
   "source": [
    "# My Jupyter Notebook On IBM watson Studio"
   ]
  },
  {
   "cell_type": "markdown",
   "id": "eb155f18",
   "metadata": {},
   "source": [
    "# Intro to Data Science languages , tools , Libraries"
   ]
  },
  {
   "cell_type": "markdown",
   "id": "cecca90c",
   "metadata": {},
   "source": [
    "# Data Science Languages"
   ]
  },
  {
   "cell_type": "code",
   "execution_count": 1,
   "id": "a5a62059",
   "metadata": {},
   "outputs": [
    {
     "name": "stdout",
     "output_type": "stream",
     "text": [
      "['python', 'R', 'SQL']\n"
     ]
    }
   ],
   "source": [
    "ds_languages = [\"python\",\"R\",\"SQL\"]\n",
    "print(ds_languages)"
   ]
  },
  {
   "cell_type": "markdown",
   "id": "ea18e52e",
   "metadata": {},
   "source": [
    "# Data Science Libraries"
   ]
  },
  {
   "cell_type": "code",
   "execution_count": 2,
   "id": "e40aa794",
   "metadata": {},
   "outputs": [
    {
     "name": "stdout",
     "output_type": "stream",
     "text": [
      "['pandas', 'seaborn', 'matpotlib']\n"
     ]
    }
   ],
   "source": [
    "ds_lib = [\"pandas\",\"seaborn\",\"matpotlib\"]\n",
    "print(ds_lib)"
   ]
  },
  {
   "cell_type": "markdown",
   "id": "4f778ffe",
   "metadata": {},
   "source": [
    "# Ds Tools \n",
    "# > IBM Watson Studio\n",
    "# > Jupyter Notebooks\n",
    "# >  Anaconda"
   ]
  },
  {
   "cell_type": "markdown",
   "id": "88c73b0f",
   "metadata": {},
   "source": [
    "# Intro To Arithmetic Op\n",
    "# * , /, +, -"
   ]
  },
  {
   "cell_type": "code",
   "execution_count": 6,
   "id": "90fbe848",
   "metadata": {},
   "outputs": [
    {
     "data": {
      "text/plain": [
       "270"
      ]
     },
     "execution_count": 6,
     "metadata": {},
     "output_type": "execute_result"
    }
   ],
   "source": [
    "(3+3)*5*9"
   ]
  },
  {
   "cell_type": "code",
   "execution_count": 4,
   "id": "366d0d8d",
   "metadata": {},
   "outputs": [
    {
     "data": {
      "text/plain": [
       "45"
      ]
     },
     "execution_count": 4,
     "metadata": {},
     "output_type": "execute_result"
    }
   ],
   "source": []
  },
  {
   "cell_type": "code",
   "execution_count": 5,
   "id": "5d47cc73",
   "metadata": {},
   "outputs": [
    {
     "name": "stdout",
     "output_type": "stream",
     "text": [
      "2.0\n"
     ]
    }
   ],
   "source": [
    "min = 120\n",
    "hours = min/60\n",
    "print(hours)"
   ]
  },
  {
   "cell_type": "markdown",
   "id": "66dee7c2",
   "metadata": {},
   "source": [
    "# Objectives\n",
    "# Create Markdown cells\n",
    "# Create Add description\n",
    "# Create Coding cells\n",
    "# Display Results of code"
   ]
  },
  {
   "cell_type": "markdown",
   "id": "903b1424",
   "metadata": {},
   "source": [
    "# Author Details : Karnav Patel"
   ]
  },
  {
   "cell_type": "code",
   "execution_count": null,
   "id": "09429ee2",
   "metadata": {},
   "outputs": [],
   "source": []
  }
 ],
 "metadata": {
  "kernelspec": {
   "display_name": "Python 3 (ipykernel)",
   "language": "python",
   "name": "python3"
  },
  "language_info": {
   "codemirror_mode": {
    "name": "ipython",
    "version": 3
   },
   "file_extension": ".py",
   "mimetype": "text/x-python",
   "name": "python",
   "nbconvert_exporter": "python",
   "pygments_lexer": "ipython3",
   "version": "3.9.7"
  }
 },
 "nbformat": 4,
 "nbformat_minor": 5
}
