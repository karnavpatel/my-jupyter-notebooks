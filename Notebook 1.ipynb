{
 "cells": [
  {
   "cell_type": "markdown",
   "id": "83cc6cda",
   "metadata": {},
   "source": [
    "# My Jupyter Notebook On IBM watson Studio"
   ]
  },
  {
   "cell_type": "markdown",
   "id": "4ffb8063",
   "metadata": {},
   "source": [
    "# Karnav Patel\n",
    "# Data Analyst"
   ]
  },
  {
   "cell_type": "markdown",
   "id": "388d3788",
   "metadata": {},
   "source": [
    "# Data Science Languages"
   ]
  },
  {
   "cell_type": "code",
   "execution_count": 1,
   "id": "aeab2f0c",
   "metadata": {},
   "outputs": [
    {
     "name": "stdout",
     "output_type": "stream",
     "text": [
      "['python', 'R', 'SQL']\n"
     ]
    }
   ],
   "source": [
    "ds_languages = [\"python\",\"R\",\"SQL\"]\n",
    "print(ds_languages)"
   ]
  },
  {
   "cell_type": "markdown",
   "id": "eb98912e",
   "metadata": {},
   "source": [
    "# Data Science Libraries"
   ]
  },
  {
   "cell_type": "code",
   "execution_count": 2,
   "id": "7d331e2c",
   "metadata": {},
   "outputs": [
    {
     "name": "stdout",
     "output_type": "stream",
     "text": [
      "['pandas', 'seaborn', 'matpotlib']\n"
     ]
    }
   ],
   "source": [
    "ds_lib = [\"pandas\",\"seaborn\",\"matpotlib\"]\n",
    "print(ds_lib)"
   ]
  },
  {
   "cell_type": "markdown",
   "id": "04eeb459",
   "metadata": {},
   "source": [
    "# Ds Tools \n",
    "# IBM Watson Studio\n",
    "# Jupyter"
   ]
  },
  {
   "cell_type": "markdown",
   "id": "fe38e322",
   "metadata": {},
   "source": [
    "# Intro To Arithmetic Op\n",
    "# * , /, +, -"
   ]
  },
  {
   "cell_type": "code",
   "execution_count": 3,
   "id": "e3d9d5c1",
   "metadata": {},
   "outputs": [
    {
     "data": {
      "text/plain": [
       "6"
      ]
     },
     "execution_count": 3,
     "metadata": {},
     "output_type": "execute_result"
    }
   ],
   "source": [
    "3+3"
   ]
  },
  {
   "cell_type": "code",
   "execution_count": 4,
   "id": "85c2d961",
   "metadata": {},
   "outputs": [
    {
     "data": {
      "text/plain": [
       "45"
      ]
     },
     "execution_count": 4,
     "metadata": {},
     "output_type": "execute_result"
    }
   ],
   "source": [
    "5*9"
   ]
  },
  {
   "cell_type": "code",
   "execution_count": 5,
   "id": "79607e89",
   "metadata": {},
   "outputs": [
    {
     "name": "stdout",
     "output_type": "stream",
     "text": [
      "2.0\n"
     ]
    }
   ],
   "source": [
    "min = 120\n",
    "hours = min/60\n",
    "print(hours)"
   ]
  },
  {
   "cell_type": "code",
   "execution_count": null,
   "id": "ddd3b0a7",
   "metadata": {},
   "outputs": [],
   "source": []
  }
 ],
 "metadata": {
  "kernelspec": {
   "display_name": "Python 3 (ipykernel)",
   "language": "python",
   "name": "python3"
  },
  "language_info": {
   "codemirror_mode": {
    "name": "ipython",
    "version": 3
   },
   "file_extension": ".py",
   "mimetype": "text/x-python",
   "name": "python",
   "nbconvert_exporter": "python",
   "pygments_lexer": "ipython3",
   "version": "3.9.7"
  }
 },
 "nbformat": 4,
 "nbformat_minor": 5
}
